{
 "cells": [
  {
   "cell_type": "markdown",
   "metadata": {},
   "source": [
    "# Database population Script"
   ]
  },
  {
   "cell_type": "markdown",
   "metadata": {},
   "source": [
    "## Populating the DB"
   ]
  },
  {
   "cell_type": "code",
   "execution_count": 2,
   "metadata": {},
   "outputs": [],
   "source": [
    "import numpy as np\n",
    "import matplotlib.pyplot as plt\n",
    "import pandas as pd\n",
    "import ta.momentum\n",
    "import ta.trend\n",
    "import yfinance as yf\n",
    "import sklearn as sk\n",
    "import sklearn.preprocessing\n",
    "import os\n",
    "import sys\n",
    "import time\n",
    "from IPython.display import clear_output"
   ]
  },
  {
   "cell_type": "code",
   "execution_count": 3,
   "metadata": {},
   "outputs": [],
   "source": [
    "NUM_TICKERS = 50\n",
    "# Get the data for the top companies in the S&P 500\n",
    "data = pd.read_html('https://en.wikipedia.org/wiki/List_of_S%26P_500_companies')\n",
    "table = data[0]\n",
    "# Get the top 50 companies and assigning them a unique id\n",
    "tickers = {table.index[i]: table['Symbol'][i] for i in range(NUM_TICKERS)}"
   ]
  },
  {
   "cell_type": "code",
   "execution_count": null,
   "metadata": {},
   "outputs": [],
   "source": [
    "# Download the data for each company\n",
    "data_pds = {}\n",
    "\n",
    "# if data.csv does not exist, download the data\n",
    "if not os.path.exists(\"data.csv\"):\n",
    "    print(\"Downloading data...\")\n",
    "    for ticker_id, ticker in tickers.items():\n",
    "        clear_output(wait=True)\n",
    "        sys.stdout.write(f\"\\rDownloading data for {ticker} ({ticker_id + 1}/{NUM_TICKERS})\")\n",
    "        time.sleep(0.1)\n",
    "        data = yf.download(ticker, progress=False)\n",
    "        data = data.reset_index()\n",
    "        data.columns = data.columns.droplevel(1)\n",
    "        data = data.rename_axis(\"Index\")\n",
    "\n",
    "        # Add the ticker ID to the data\n",
    "        data[\"Ticker_ID\"] = ticker_id\n",
    "\n",
    "        # turning raw date into year, month, day columns\n",
    "        data['Year'] = data['Date'].dt.year\n",
    "        data['Month'] = data['Date'].dt.month\n",
    "        data['Day'] = data['Date'].dt.day\n",
    "\n",
    "        close_data = data['Close'].squeeze()\n",
    "        data['SMA_20'] = ta.trend.sma_indicator(close_data, window=20) # 20 day simple moving average\n",
    "        data['RSI_14'] = ta.momentum.rsi(close_data, window=14) # 14 day RSI\n",
    "\n",
    "        bbands = ta.volatility.BollingerBands(close_data, window=20) # 20 day Bollinger Bands\n",
    "        data[\"BB_Upper\"] = bbands.bollinger_hband() # upper band\n",
    "        data[\"BB_Middle\"] = bbands.bollinger_mavg() # middle band\n",
    "        data[\"BB_Lower\"] = bbands.bollinger_lband() # lower band\n",
    "\n",
    "        macd = ta.trend.MACD(close_data) # MACD\n",
    "        data[\"MACD\"] = macd.macd() # MACD line\n",
    "        data[\"Signal\"] = macd.macd_signal() # Signal line\n",
    "\n",
    "        data[\"ATR\"] = ta.volatility.average_true_range(data['High'].squeeze(), data['Low'].squeeze(), close_data, window=14) # 14 day ATR\n",
    "\n",
    "        data_pds[ticker] = data.dropna()\n",
    "\n",
    "    # combine the data\n",
    "    data = pd.concat(data_pds.values())\n",
    "    data.to_csv(\"data.csv\")\n",
    "else:\n",
    "    print(\"Data already downloaded.\")"
   ]
  },
  {
   "cell_type": "code",
   "execution_count": null,
   "metadata": {},
   "outputs": [],
   "source": [
    "data = pd.read_csv(\"data.csv\")\n",
    "data.drop(columns=[\"Index\"], inplace=True)\n",
    "data"
   ]
  },
  {
   "cell_type": "code",
   "execution_count": null,
   "metadata": {},
   "outputs": [],
   "source": [
    "# normalize the data\n",
    "scaler = sk.preprocessing.MinMaxScaler()\n",
    "columns_to_normalize = data.columns.drop(['Date', 'Ticker_ID', 'Year', 'Month', 'Day'])\n",
    "data[columns_to_normalize] = scaler.fit_transform(data[columns_to_normalize])\n",
    "\n",
    "# save to csv\n",
    "data.to_csv(\"data.csv\")"
   ]
  },
  {
   "cell_type": "code",
   "execution_count": 2,
   "metadata": {},
   "outputs": [
    {
     "name": "stdout",
     "output_type": "stream",
     "text": [
      "Not enough data for AMTM\n"
     ]
    }
   ],
   "source": [
    "from sklearn.model_selection import train_test_split\n",
    "from sklearn.linear_model import LinearRegression\n",
    "\n",
    "# Train a linear regression model for each company\n",
    "models = {}\n",
    "for ticker, df in data_pds.items():\n",
    "    X = df[['Close','MA_10', 'MA_50']] #use the rolling average\n",
    "    y = df['Close'].shift(-1).dropna() #predict the next day's closing price\n",
    "    X = X[:-1]\n",
    "\n",
    "    # Check if there are enough samples to split\n",
    "    if len(X) < 2:\n",
    "        print(f\"Not enough data for {ticker}\")\n",
    "        continue\n",
    "\n",
    "    X_train, X_test, y_train, y_test = train_test_split(X, y, test_size=0.2)\n",
    "\n",
    "    model = LinearRegression()\n",
    "    model.fit(X_train, y_train)\n",
    "\n",
    "    models[ticker] = model\n",
    "\n",
    "\n",
    "\n",
    "\n",
    "\n"
   ]
  },
  {
   "cell_type": "code",
   "execution_count": 20,
   "metadata": {},
   "outputs": [
    {
     "name": "stdout",
     "output_type": "stream",
     "text": [
      "Predicted price for AAPL on 2020-03-19: [61.32029176]\n",
      "\n",
      "Actual price for AAPL on 2020-03-19: Ticker\n",
      "AAPL    57.310001\n",
      "Name: 2020-03-19 00:00:00, dtype: float64\n"
     ]
    }
   ],
   "source": [
    "#Ask the user to input a stock to predict the price for, and the specific date\n",
    "\n",
    "stock = 'AAPL'\n",
    "date = '2020-03-19'\n",
    "\n",
    "if stock in data_pds:\n",
    "    df = data_pds[stock]\n",
    "    X = df[['Close','MA_10', 'MA_50']]\n",
    "    X = X[:-1]\n",
    "    y = df['Close'].shift(-1).dropna()\n",
    "\n",
    "    model = models[stock]\n",
    "    prediction = model.predict([X.loc[date]])\n",
    "    actual = y.loc[date]\n",
    "\n",
    "    print(f\"Predicted price for {stock} on {date}: {prediction[0]}\\n\")\n",
    "    print(f\"Actual price for {stock} on {date}: {actual}\")\n",
    "\n"
   ]
  },
  {
   "cell_type": "code",
   "execution_count": null,
   "metadata": {},
   "outputs": [],
   "source": []
  }
 ],
 "metadata": {
  "kernelspec": {
   "display_name": "venv",
   "language": "python",
   "name": "python3"
  },
  "language_info": {
   "codemirror_mode": {
    "name": "ipython",
    "version": 3
   },
   "file_extension": ".py",
   "mimetype": "text/x-python",
   "name": "python",
   "nbconvert_exporter": "python",
   "pygments_lexer": "ipython3",
   "version": "3.11.1"
  }
 },
 "nbformat": 4,
 "nbformat_minor": 2
}
