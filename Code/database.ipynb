{
 "cells": [
  {
   "cell_type": "markdown",
   "metadata": {},
   "source": [
    "# Database population Script"
   ]
  },
  {
   "cell_type": "markdown",
   "metadata": {},
   "source": [
    "## Populating the DB"
   ]
  },
  {
   "cell_type": "code",
   "execution_count": 1,
   "metadata": {},
   "outputs": [
    {
     "name": "stderr",
     "output_type": "stream",
     "text": [
      "[*********************100%***********************]  1 of 1 completed\n",
      "[*********************100%***********************]  1 of 1 completed\n",
      "[*********************100%***********************]  1 of 1 completed\n",
      "[*********************100%***********************]  1 of 1 completed\n",
      "[*********************100%***********************]  1 of 1 completed\n",
      "[*********************100%***********************]  1 of 1 completed\n",
      "[*********************100%***********************]  1 of 1 completed\n",
      "[*********************100%***********************]  1 of 1 completed\n",
      "[*********************100%***********************]  1 of 1 completed\n",
      "[*********************100%***********************]  1 of 1 completed\n",
      "[*********************100%***********************]  1 of 1 completed\n",
      "[*********************100%***********************]  1 of 1 completed\n",
      "[*********************100%***********************]  1 of 1 completed\n",
      "[*********************100%***********************]  1 of 1 completed\n",
      "[*********************100%***********************]  1 of 1 completed\n",
      "[*********************100%***********************]  1 of 1 completed\n",
      "[*********************100%***********************]  1 of 1 completed\n",
      "[*********************100%***********************]  1 of 1 completed\n",
      "[*********************100%***********************]  1 of 1 completed\n",
      "[*********************100%***********************]  1 of 1 completed\n",
      "[*********************100%***********************]  1 of 1 completed\n",
      "[*********************100%***********************]  1 of 1 completed\n",
      "[*********************100%***********************]  1 of 1 completed\n",
      "[*********************100%***********************]  1 of 1 completed\n",
      "[*********************100%***********************]  1 of 1 completed\n",
      "[*********************100%***********************]  1 of 1 completed\n",
      "[*********************100%***********************]  1 of 1 completed\n",
      "[*********************100%***********************]  1 of 1 completed\n",
      "[*********************100%***********************]  1 of 1 completed\n",
      "[*********************100%***********************]  1 of 1 completed\n",
      "[*********************100%***********************]  1 of 1 completed\n",
      "[*********************100%***********************]  1 of 1 completed\n",
      "[*********************100%***********************]  1 of 1 completed\n",
      "[*********************100%***********************]  1 of 1 completed\n",
      "[*********************100%***********************]  1 of 1 completed\n",
      "[*********************100%***********************]  1 of 1 completed\n",
      "[*********************100%***********************]  1 of 1 completed\n",
      "[*********************100%***********************]  1 of 1 completed\n",
      "[*********************100%***********************]  1 of 1 completed\n",
      "[*********************100%***********************]  1 of 1 completed\n",
      "[*********************100%***********************]  1 of 1 completed\n",
      "[*********************100%***********************]  1 of 1 completed\n",
      "[*********************100%***********************]  1 of 1 completed\n",
      "[*********************100%***********************]  1 of 1 completed\n",
      "[*********************100%***********************]  1 of 1 completed\n",
      "[*********************100%***********************]  1 of 1 completed\n",
      "[*********************100%***********************]  1 of 1 completed\n",
      "[*********************100%***********************]  1 of 1 completed\n",
      "[*********************100%***********************]  1 of 1 completed\n",
      "[*********************100%***********************]  1 of 1 completed\n"
     ]
    }
   ],
   "source": [
    "import numpy as np\n",
    "import matplotlib.pyplot as plt\n",
    "import pandas as pd\n",
    "import ta.momentum\n",
    "import yfinance as yf\n",
    "import sklearn as sk\n",
    "from ta.momentum import RSIIndicator\n",
    "\n",
    "# Get the data for the top companies in the S&P 500\n",
    "data = pd.read_html('https://en.wikipedia.org/wiki/List_of_S%26P_500_companies')\n",
    "table = data[0]\n",
    "tickers = table['Symbol'].tolist()[:50]\n",
    "\n",
    "# Download the data for each company\n",
    "data_pds = {}\n",
    "for ticker in tickers:\n",
    "    try:\n",
    "        data = yf.download(ticker)\n",
    "        data['MA_10'] = data['Close'].rolling(10).mean()\n",
    "        data['MA_50'] = data['Close'].rolling(50).mean()\n",
    "        # rsi = RSIIndicator(data['Close'], window=14)\n",
    "        # rsi = rsi.rsi()\n",
    "        data_pds[ticker] = data.dropna()\n",
    "\n",
    "\n",
    "    except:\n",
    "        print(f\"Error downloading {ticker}\")\n",
    "        continue\n",
    "\n",
    "\n",
    "\n",
    "\n"
   ]
  },
  {
   "cell_type": "code",
   "execution_count": 2,
   "metadata": {},
   "outputs": [
    {
     "name": "stdout",
     "output_type": "stream",
     "text": [
      "Not enough data for AMTM\n"
     ]
    }
   ],
   "source": [
    "from sklearn.model_selection import train_test_split\n",
    "from sklearn.linear_model import LinearRegression\n",
    "\n",
    "# Train a linear regression model for each company\n",
    "models = {}\n",
    "for ticker, df in data_pds.items():\n",
    "    X = df[['Close','MA_10', 'MA_50']] #use the rolling average\n",
    "    y = df['Close'].shift(-1).dropna() #predict the next day's closing price\n",
    "    X = X[:-1]\n",
    "\n",
    "    # Check if there are enough samples to split\n",
    "    if len(X) < 2:\n",
    "        print(f\"Not enough data for {ticker}\")\n",
    "        continue\n",
    "\n",
    "    X_train, X_test, y_train, y_test = train_test_split(X, y, test_size=0.2)\n",
    "\n",
    "    model = LinearRegression()\n",
    "    model.fit(X_train, y_train)\n",
    "\n",
    "    models[ticker] = model\n",
    "\n",
    "\n",
    "\n",
    "\n",
    "\n"
   ]
  },
  {
   "cell_type": "code",
   "execution_count": 20,
   "metadata": {},
   "outputs": [
    {
     "name": "stdout",
     "output_type": "stream",
     "text": [
      "Predicted price for AAPL on 2020-03-19: [61.32029176]\n",
      "\n",
      "Actual price for AAPL on 2020-03-19: Ticker\n",
      "AAPL    57.310001\n",
      "Name: 2020-03-19 00:00:00, dtype: float64\n"
     ]
    }
   ],
   "source": [
    "#Ask the user to input a stock to predict the price for, and the specific date\n",
    "\n",
    "stock = 'AAPL'\n",
    "date = '2020-03-19'\n",
    "\n",
    "if stock in data_pds:\n",
    "    df = data_pds[stock]\n",
    "    X = df[['Close','MA_10', 'MA_50']]\n",
    "    X = X[:-1]\n",
    "    y = df['Close'].shift(-1).dropna()\n",
    "\n",
    "    model = models[stock]\n",
    "    prediction = model.predict([X.loc[date]])\n",
    "    actual = y.loc[date]\n",
    "\n",
    "    print(f\"Predicted price for {stock} on {date}: {prediction[0]}\\n\")\n",
    "    print(f\"Actual price for {stock} on {date}: {actual}\")\n",
    "\n"
   ]
  },
  {
   "cell_type": "code",
   "execution_count": null,
   "metadata": {},
   "outputs": [],
   "source": []
  }
 ],
 "metadata": {
  "kernelspec": {
   "display_name": "venv",
   "language": "python",
   "name": "python3"
  },
  "language_info": {
   "codemirror_mode": {
    "name": "ipython",
    "version": 3
   },
   "file_extension": ".py",
   "mimetype": "text/x-python",
   "name": "python",
   "nbconvert_exporter": "python",
   "pygments_lexer": "ipython3",
   "version": "3.10.11"
  }
 },
 "nbformat": 4,
 "nbformat_minor": 2
}
